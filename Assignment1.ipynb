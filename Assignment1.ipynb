{
 "cells": [
  {
   "cell_type": "markdown",
   "metadata": {},
   "source": [
    "# Assginment 1\n",
    "### [정보]\n",
    "#### 1) Due Date: 2018년 9월 30일 (일), 23시 59분\n",
    "\n",
    "##### 2) 제출방법: jupyter notebook으로 작성된 내용을 github(추천), naver cloud, dropbox 등에 올리고, 올려진 파일의 URL을 다시 http://nbviewer.jupyter.org에 넣어서 산출된 URL을 EL사이트에 제출\n",
    "##### 3) 내용: 반드시 python code와 수행 결과를 jupyter notebook 내에 작성하여 넣고 이에 대한 설명등을 해당 코드 아래에 markdown cell에 넣어 기입하시오.\n",
    "##### 4) 숙제이후 소감: 11개의 문제를 모두 푼 이후에 현재까지 강의를 들은 이후의 소감, 숙제를 한 이후의 소감, 또는 전하고자 하는 말 등을 짧막하게라도 좋으니 마지막에 함께 작성하여 제출하시오. \n",
    "##### 5) 참고: ACM-ICPC 3문제 정답 기재 방법\n",
    " - https://www.acmicpc.net 사이트 회원가입\n",
    " - 반드시 <b>본인 학번</b>으로 회원가입(기가입자는 재가입)\n",
    " - ACM-ICPC 문제의 <u>1. 정답 코드</u>를 숙제 제출 리포트 내에 포함시키고\n",
    " \n",
    " - https://www.acmicpc.net 사이트에 본인이 작성한 코드를 직접 제출하여 올바른 정답임을 확인해주는 모습을 캡쳐하여 해당 <u>2. 캡쳐 파일</u>도 숙제 제출 리포트(.ipynb파일)내에 내장시켜 제출하시오. 이미지를 내장시키는 방법은 아래의 참고사이트를 참고하시오.\n",
    " <br>\n",
    " \n",
    " - 참고 사이트\n",
    "    - jupyter notebook에 image를 내장시키는 방법> https://stackoverflow.com/questions/10628262/inserting-image-into-ipython-notebook-markdown\n",
    "    - jupyter notebook 사용법> https://www.slideshare.net/dahlmoon/jupyter-notebok-20160815\n",
    "    \n",
    " <br>\n",
    " \n",
    " - 캡쳐 파일의 모습은 다음과 같아야 합니다. \n",
    "  ![image](http://nbviewer.jupyter.org/github/bluebibi/python-e-learning/blob/master/images/AF91CA27-0B5B-44CE-9018-3D0E8D2DE51F.png)\n",
    " <code>! [image] (http://nbviewer.jupyter.org/github/bluebibi/python-e-learning/blob/master/images/AF91CA27-0B5B-44CE-9018-3D0E8D2DE51F.png)</code>\n",
    "  \n",
    " <br>\n",
    " - 감점 사항(향후 모든 숙제에 적용됨)\n",
    "   - ACM-ICPC 정답 코드를 포함하지 않는 경우\n",
    "   - ACM-ICPC 사이트에서 캡쳐한 이미지의 모습이 예시와 같지 않는 경우(특히 학번이 나와있지 않는 경우)\n",
    "   - ACM-ICPC 사이트에서 채점 결과가 \"맞았습니다\"가 아닌 경우\n",
    "   - 단, 정답임에도 \"맞았습니다\"가 아닌 경우에는, 충분한 설명을 주석으로 제시하여 설득할 것\n",
    "   - nbviewer url로 접근이 불가능한 경우(404 에러 등이 뜨면 안됩니다. github repository를 잘 관리하세요.)\n",
    "   - python2로 코드를 작성한 경우\n",
    "   - 주석이 자세하지 않거나 지나치게 짧은 경우\n",
    "   - 2명 이상이 코드가 완벽히 동일한 경우"
   ]
  },
  {
   "cell_type": "markdown",
   "metadata": {},
   "source": [
    " ### [문제]\n",
    "\n",
    " #### 1. a=\"Hello Python\" 문자열을 Slicing과 연결 연산자 (+)를 사용하여 \"Python Hello\"로 변경하시오.\n",
    "   - [주의] a 변수 자체에 \"Python Hello\" 문자열이 저장되어야 함"
   ]
  },
  {
   "cell_type": "code",
   "execution_count": 13,
   "metadata": {},
   "outputs": [
    {
     "name": "stdout",
     "output_type": "stream",
     "text": [
      "Python Hello\n"
     ]
    }
   ],
   "source": [
    "a = \"Hello Python\"    \n",
    "a = a[6:] + a[5:6] + a[0:5] #Slicing 연산자를 이용해서 문자열을 잘라내고 + 연산자로 문자열 연결.\n",
    "print (a)"
   ]
  },
  {
   "cell_type": "markdown",
   "metadata": {},
   "source": [
    "#### 2. b=\"Hello Python World\" 문자열을 Slicing과 연결 연산자 (+)를 사용하여 \"World Python Hello\"로 변경하시오.\n",
    "   - [주의] b 변수 자체에 \"World Python Hello\" 문자열이 저장되어야 함  "
   ]
  },
  {
   "cell_type": "code",
   "execution_count": 37,
   "metadata": {},
   "outputs": [
    {
     "name": "stdout",
     "output_type": "stream",
     "text": [
      "World Python Hello\n"
     ]
    }
   ],
   "source": [
    "b = \"Hello Python World\"\n",
    "b = b[::-1]     #문자열 거꾸로 반전 --> dlroW nohtyP olleH\n",
    "b = b[4::-1] + b[12:4:-1] + b[18:12:-1] #반전시킨 문자열을 다시 거꾸로 잘라서 + 연산자로 문자열 연결\n",
    "print (b)"
   ]
  },
  {
   "cell_type": "markdown",
   "metadata": {},
   "source": [
    "#### 3. c=\"Hello\"를 \"olleH\"로 변경하시오\n",
    "   - [주의] c 변수 자체에 \"olleH\" 문자열이 저장되어야 함"
   ]
  },
  {
   "cell_type": "code",
   "execution_count": 39,
   "metadata": {},
   "outputs": [
    {
     "name": "stdout",
     "output_type": "stream",
     "text": [
      "olleH\n"
     ]
    }
   ],
   "source": [
    "c = \"Hello\"\n",
    "c = c[::-1] #Slicing step을 -1로 하여 문자열 거꾸로 반전 \n",
    "print(c)"
   ]
  },
  {
   "cell_type": "markdown",
   "metadata": {},
   "source": [
    "#### 4. s=\"python\"에 대해 다음 문제를 풀어보시오.\n",
    "A. s[0], s[0][0], s[0][0][0]은 각각 어떤 값이 나오는지 확인하고 그 이유를 나름대로 설명해 보시오."
   ]
  },
  {
   "cell_type": "code",
   "execution_count": 20,
   "metadata": {},
   "outputs": [
    {
     "name": "stdout",
     "output_type": "stream",
     "text": [
      "p p p\n"
     ]
    }
   ],
   "source": [
    "s = \"python\"\n",
    "print (s[0], s[0][0], s[0][0][0])"
   ]
  },
  {
   "cell_type": "markdown",
   "metadata": {},
   "source": [
    "- s[0], s[0][0], s[0][0][0] 모두 같은 값이 나온다. 그 이유는 각각의 인덱싱 연산이 모두 s의 맨 첫번째 문자열을 가리키기 때문이다. 따라서\n",
    "s[1][1], s[0][1][0] 등의 인덱싱 연산은 존재하지 않는 인덱싱 범위이기 때문에 에러가 나온다.  "
   ]
  },
  {
   "cell_type": "markdown",
   "metadata": {},
   "source": [
    "   B. s[-100], s[100]은 값이 나오는지 에러가 나오는지 확인하고 그 결과에 대한 이유를 나름대로 설명해 보시오.\n",
    "   "
   ]
  },
  {
   "cell_type": "code",
   "execution_count": 58,
   "metadata": {},
   "outputs": [
    {
     "ename": "IndexError",
     "evalue": "string index out of range",
     "output_type": "error",
     "traceback": [
      "\u001b[1;31m---------------------------------------------------------------------------\u001b[0m",
      "\u001b[1;31mIndexError\u001b[0m                                Traceback (most recent call last)",
      "\u001b[1;32m<ipython-input-58-161e84279207>\u001b[0m in \u001b[0;36m<module>\u001b[1;34m()\u001b[0m\n\u001b[1;32m----> 1\u001b[1;33m \u001b[0mprint\u001b[0m \u001b[1;33m(\u001b[0m\u001b[0ms\u001b[0m\u001b[1;33m[\u001b[0m\u001b[1;33m-\u001b[0m\u001b[1;36m100\u001b[0m\u001b[1;33m]\u001b[0m\u001b[1;33m)\u001b[0m\u001b[1;33m\u001b[0m\u001b[0m\n\u001b[0m",
      "\u001b[1;31mIndexError\u001b[0m: string index out of range"
     ]
    }
   ],
   "source": [
    "print (s[-100])"
   ]
  },
  {
   "cell_type": "code",
   "execution_count": 65,
   "metadata": {},
   "outputs": [
    {
     "ename": "IndexError",
     "evalue": "string index out of range",
     "output_type": "error",
     "traceback": [
      "\u001b[1;31m---------------------------------------------------------------------------\u001b[0m",
      "\u001b[1;31mIndexError\u001b[0m                                Traceback (most recent call last)",
      "\u001b[1;32m<ipython-input-65-da63a6aa5325>\u001b[0m in \u001b[0;36m<module>\u001b[1;34m()\u001b[0m\n\u001b[1;32m----> 1\u001b[1;33m \u001b[0mprint\u001b[0m \u001b[1;33m(\u001b[0m\u001b[0ms\u001b[0m\u001b[1;33m[\u001b[0m\u001b[1;36m100\u001b[0m\u001b[1;33m]\u001b[0m\u001b[1;33m)\u001b[0m\u001b[1;33m\u001b[0m\u001b[0m\n\u001b[0m",
      "\u001b[1;31mIndexError\u001b[0m: string index out of range"
     ]
    }
   ],
   "source": [
    "print (s[100])"
   ]
  },
  {
   "cell_type": "markdown",
   "metadata": {},
   "source": [
    "- 문자열 s의 인덱스는 0부터 5까지 혹은 -6부터 -1까지이므로  s[100], s[-100] 등의 인덱싱 연산은 존재하지 않는 인덱싱 범위이기 때문에 에러가 나온다.  "
   ]
  },
  {
   "cell_type": "markdown",
   "metadata": {},
   "source": [
    "C. s[-100, 100]은 값이 나오는지 에러가 나오는지 확인하고 그 결과에 대한 이유를 나름대로 설명해 보시오."
   ]
  },
  {
   "cell_type": "code",
   "execution_count": 67,
   "metadata": {},
   "outputs": [
    {
     "ename": "TypeError",
     "evalue": "string indices must be integers",
     "output_type": "error",
     "traceback": [
      "\u001b[1;31m---------------------------------------------------------------------------\u001b[0m",
      "\u001b[1;31mTypeError\u001b[0m                                 Traceback (most recent call last)",
      "\u001b[1;32m<ipython-input-67-b6abf6fa567c>\u001b[0m in \u001b[0;36m<module>\u001b[1;34m()\u001b[0m\n\u001b[1;32m----> 1\u001b[1;33m \u001b[0mprint\u001b[0m \u001b[1;33m(\u001b[0m\u001b[0ms\u001b[0m\u001b[1;33m[\u001b[0m\u001b[1;33m-\u001b[0m\u001b[1;36m100\u001b[0m\u001b[1;33m,\u001b[0m\u001b[1;36m100\u001b[0m\u001b[1;33m]\u001b[0m\u001b[1;33m)\u001b[0m\u001b[1;33m\u001b[0m\u001b[0m\n\u001b[0m",
      "\u001b[1;31mTypeError\u001b[0m: string indices must be integers"
     ]
    }
   ],
   "source": [
    "print (s[-100,100])"
   ]
  },
  {
   "cell_type": "markdown",
   "metadata": {},
   "source": [
    "- 문자열의 인덱스는 정수 값으로 인덱싱 연산자 안에 정수가 아닌 다른 값이 들어갈 경우 에러가 발생한다"
   ]
  },
  {
   "cell_type": "markdown",
   "metadata": {},
   "source": [
    "D. s[1:-1]의 결과를 확인하고 그 결과에 대한 이유를 정확하게 설명하시오."
   ]
  },
  {
   "cell_type": "code",
   "execution_count": 69,
   "metadata": {},
   "outputs": [
    {
     "name": "stdout",
     "output_type": "stream",
     "text": [
      "ytho\n"
     ]
    }
   ],
   "source": [
    "print (s[1:-1])"
   ]
  },
  {
   "cell_type": "markdown",
   "metadata": {},
   "source": [
    "- Slicing연산의 형식은 [start(included) : stop(excluded) : step]으로 문자열 s = \"python\"에 대한 s[1:-1] 연산은 인덱스 1번부터 -1전까지의 문자열을 잘라내서 반환한다. 여기서 -1은 문자열의 맨뒤를 가리키는 인덱스이다. 즉, s = \"python\"에서 인덱스는 0~5 또는 -6~-1이므로 p와 n을 잘라낸 문자열 \"ytho\"가 출력된다."
   ]
  },
  {
   "cell_type": "markdown",
   "metadata": {},
   "source": [
    "E. s[3:-3]의 결과를 확인하고 그 결과에 대한 이유를 정확하게 설명하시오."
   ]
  },
  {
   "cell_type": "code",
   "execution_count": 21,
   "metadata": {},
   "outputs": [
    {
     "name": "stdout",
     "output_type": "stream",
     "text": [
      "\n"
     ]
    }
   ],
   "source": [
    "print (s[3:-3])"
   ]
  },
  {
   "cell_type": "markdown",
   "metadata": {},
   "source": [
    "- s = \"python\"의 인덱스는 0 ~ 5 또는 -6 ~ -1이다. 따라서 s[3:-3] 연산은 인덱스 3번부터 -3전까지의 문자열을 잘라낸다. 즉, s = \"python\"에서 h부터 h이전까지의 문자열이 존재하지 않으므로 문자열이 출력되지 않는다."
   ]
  },
  {
   "cell_type": "markdown",
   "metadata": {},
   "source": [
    "#### 5. for문을 활용하여 1부터 100사이의 홀수를 출력하시오."
   ]
  },
  {
   "cell_type": "code",
   "execution_count": 81,
   "metadata": {},
   "outputs": [
    {
     "name": "stdout",
     "output_type": "stream",
     "text": [
      "1, 3, 5, 7, 9, 11, 13, 15, 17, 19, 21, 23, 25, 27, 29, 31, 33, 35, 37, 39, 41, 43, 45, 47, 49, 51, 53, 55, 57, 59, 61, 63, 65, 67, 69, 71, 73, 75, 77, 79, 81, 83, 85, 87, 89, 91, 93, 95, 97, 99, "
     ]
    }
   ],
   "source": [
    "for n in range(1,101,2) : #1부터 100까지의 수중 홀수이므로 range()함수를 이용해 step을 2로 하여 홀수만 출력\n",
    "    print (n, end=\", \")"
   ]
  },
  {
   "cell_type": "markdown",
   "metadata": {},
   "source": [
    "#### 6. while문을 활용하여 1부터 100사이의 짝수의 합을 계산하여 출력하시오."
   ]
  },
  {
   "cell_type": "code",
   "execution_count": 19,
   "metadata": {},
   "outputs": [
    {
     "name": "stdout",
     "output_type": "stream",
     "text": [
      "2550\n"
     ]
    }
   ],
   "source": [
    "total = 0\n",
    "n = 0 \n",
    "while n < 100 : #n이 100보다 작을 때 까지  \n",
    "    n = n + 1  #n을 증가시킴\n",
    "    if (n%2)==0: total += n #n이 짝수일 경우 total에 합을 더한다.\n",
    "print(total)"
   ]
  },
  {
   "cell_type": "markdown",
   "metadata": {},
   "source": [
    "#### 7. 사용자로 부터 임의의 정수를 입력받고, 해당 숫자를 역순으로 출력하는 프로그램을 작성하시오.\n",
    " [실행 예]\n",
    "     ```\n",
    "     정수를 입력하세요: 3125\n",
    "     숫자 역순은 5213 입니다.\n",
    "     ```"
   ]
  },
  {
   "cell_type": "code",
   "execution_count": 101,
   "metadata": {},
   "outputs": [
    {
     "name": "stdout",
     "output_type": "stream",
     "text": [
      "정수를 입력하세요: 123\n",
      "숫자 역순은 321 입니다.\n"
     ]
    }
   ],
   "source": [
    "n = input('정수를 입력하세요: ') #정수를 문자열로 입력받고\n",
    "print (\"숫자 역순은\",n[::-1],\"입니다.\") #역순으로 출력"
   ]
  },
  {
   "cell_type": "markdown",
   "metadata": {},
   "source": [
    "#### 8. 사용자로 부터 정수를 입력받아서 1부터 그 사이에 존재하는 소수 (Prime number)를 출력하는 파이썬 프로그램을 작성하시오.\n"
   ]
  },
  {
   "cell_type": "code",
   "execution_count": 16,
   "metadata": {},
   "outputs": [
    {
     "name": "stdout",
     "output_type": "stream",
     "text": [
      "정수를 입력하세요: 100\n",
      "2 3 5 7 11 13 17 19 23 29 31 37 41 43 47 53 59 61 67 71 73 79 83 89 97 "
     ]
    }
   ],
   "source": [
    "n = int(input('정수를 입력하세요: ')) #정수값으로 입력받음\n",
    "primeCount = 0 #소수판별 카운터 \n",
    "\n",
    "for i in range(2,n+1) : #1은 소수가 아니므로 2부터 시작\n",
    "    for j in range(2,i) :\n",
    "        if (i%j)==0 : primeCount += 1; break  #1과 자신을 제외하고 나누어지는 수 있는지 촥인    \n",
    "    if (primeCount==0) : print(i, end=\" \") #나누어지는 수가 없는 경우 소수이므로 출력\n",
    "    primeCount=0    "
   ]
  },
  {
   "cell_type": "markdown",
   "metadata": {},
   "source": [
    "##### 9. [ACM-ICPC 문제 2441번] \n",
    "   - 별찍기-4\n",
    "   - 문제 : 첫째 줄에는 별 N개, 둘째 줄에는 별 N-1개, ..., N번째 줄에는 별 1개를 찍는 문제 하지만, 오른쪽을 기준으로 정렬한 별을 출력하시오.\n",
    "   - 입력 : 첫째 줄에 N (1<=N<=100)이 주어진다.\n",
    "   - 출력 : 첫째 줄부터 N번째 줄 까지 차례대로 별을 출력한다."
   ]
  },
  {
   "cell_type": "code",
   "execution_count": 46,
   "metadata": {
    "scrolled": true
   },
   "outputs": [
    {
     "name": "stdout",
     "output_type": "stream",
     "text": [
      "5\n",
      "*****\n",
      " ****\n",
      "  ***\n",
      "   **\n",
      "    *\n"
     ]
    }
   ],
   "source": [
    "n = int(input()) #정수값 입력받음\n",
    "      \n",
    "for i in range(n,0,-1) : #역순으로 반복하여 별 출력\n",
    "    for j in range(n-i): print(\" \", end=\"\") #n-i만큼 공백출력\n",
    "    for j in range(i): print(\"*\", end=\"\") #별출력\n",
    "    print(),    "
   ]
  },
  {
   "cell_type": "markdown",
   "metadata": {},
   "source": [
    "![캡쳐본](https://github.com/woooooojin/ScriptProgrammingAssignment1/blob/master/2441.PNG?raw=true)"
   ]
  },
  {
   "cell_type": "markdown",
   "metadata": {},
   "source": [
    "- 이미지 URL : https://github.com/woooooojin/ScriptProgrammingAssignment1/blob/master/2441.PNG?raw=true\n",
    "#### 10. [ACM-ICPC 문제 11721번] \n",
    "   - 열 개씩 끊어 출력하기\n",
    "   - 문제 : 알파벳 소문자와 대문자로만 이루어진 길이가 N인 단어가 주어진다. 한 줄에 10글자씩 끊어서 출력하는 프로그램을 작성하시오.\n",
    "   - 입력 : 첫째 줄에 단어가 주어진다. 단어는 알파벳 소문자와 대문자로만 이루어져 있으며, 길이는 100을 넘지 않는다. 길이가 0인 단어는 주어지지 않는다.\n",
    "   - 출력 : 입력으로 주어진 단어를 열 개씩 끊어서 한 줄에 하나씩 출력한다. 단어의 길이가 10의 배수가 아닌 경우에는 마지막 줄에는 10개 미만의 글자만 출력할 수도 있다."
   ]
  },
  {
   "cell_type": "code",
   "execution_count": 62,
   "metadata": {},
   "outputs": [
    {
     "name": "stdout",
     "output_type": "stream",
     "text": [
      "OneTwoThreeFourFiveSixSevenEightNineTen\n",
      "OneTwoThre\n",
      "eFourFiveS\n",
      "ixSevenEig\n",
      "htNineTen\n"
     ]
    }
   ],
   "source": [
    "s = input() #문자열 입력\n",
    "for i in range(0,len(s),10):#0~문자열 길이까지 step 10씩 건너뛰어 반환-->출력할 문자열의 시작 인덱스\n",
    "    print (s[i:i+10]), #10글자씩 출력"
   ]
  },
  {
   "cell_type": "markdown",
   "metadata": {},
   "source": [
    "![캡쳐본](https://github.com/woooooojin/ScriptProgrammingAssignment1/blob/master/11721.PNG?raw=true)"
   ]
  },
  {
   "cell_type": "markdown",
   "metadata": {},
   "source": [
    "- 이미지 URL : https://github.com/woooooojin/ScriptProgrammingAssignment1/blob/master/11721.PNG?raw=true\n",
    "#### 11. [ACM-ICPC 문제 2839번]\n",
    "   - 설탕배달<br>\n",
    "   - 문제 : 상근이는 요즘 설탕공장에서 설탕을 배달하고 있다. 상근이는 지금 사탕가게에 설탕을 정확하게 N킬로그램을 배달해야 한다. 설탕공장에서 만드는 설탕은 봉지에 담겨져 있다. 봉지는 3킬로그램 봉지와 5킬로그램 봉지가 있다.상근이는 귀찮기 때문에, 최대한 적은 봉지를 들고 가려고 한다. 예를 들어, 18킬로그램 설탕을 배달해야 할 때, 3킬로그램 봉지 6개를 가져가도 되지만, 5킬로그램 3개와 3킬로그램 1개를 배달하면, 더 적은 개수의 봉지를 배달할 수 있다.상근이가 설탕을 정확하게 N킬로그램 배달해야 할 때, 봉지 몇 개를 가져가면 되는지 그 수를 구하는 프로그램을 작성하시오.\n",
    "   - 입력 : 첫째 줄에 N이 주어진다. (3 ≤ N ≤ 5000)\n",
    "   - 출력 : 상근이가 배달하는 봉지의 최소 개수를 출력한다. 만약, 정확하게 N킬로그램을 만들 수 없다면 -1을 출력한다."
   ]
  },
  {
   "cell_type": "code",
   "execution_count": 131,
   "metadata": {},
   "outputs": [
    {
     "name": "stdout",
     "output_type": "stream",
     "text": [
      "11\n",
      "3\n"
     ]
    }
   ],
   "source": [
    "#N킬로그램에서 3킬로그램씩 빼면서 5킬로그램 즉, 5의 배수를 찾아 해결한다.\n",
    "n = int(input()) #정수값을 입력받음\n",
    "totalBag = 0 #설탕 봉지 총 개수\n",
    "\n",
    "while (1): #무한루프\n",
    "    if (n%5) == 0:            #5kg으로 나누어지면  \n",
    "        totalBag += int(n/5)  #설탕봉지의 총 개수에 나누어지는 만큼 봉지개수 증가.\n",
    "        break                 #나누어 떨어졌으므로 루프 종료\n",
    "    n -= 3            #총 nKg에서 3Kg씩 뺀다\n",
    "    totalBag += 1     #3kg 뺄때 마다 봉지개수 증가\n",
    "    if(n == 0): break #봉지가 모두 3Kg인 경우 \n",
    "    elif(n < 0):      \n",
    "        totalBag = -1 #3Kg,5Kg으로 nkg 만들 수 없으니 -1\n",
    "        break      \n",
    "print (int(totalBag))        "
   ]
  },
  {
   "cell_type": "markdown",
   "metadata": {},
   "source": [
    "![캡쳐본](https://github.com/woooooojin/ScriptProgrammingAssignment1/blob/master/2839.PNG?raw=true)"
   ]
  },
  {
   "cell_type": "markdown",
   "metadata": {},
   "source": [
    "- 이미지 URL : https://github.com/woooooojin/ScriptProgrammingAssignment1/blob/master/2839.PNG?raw=true\n",
    "### [소감]\n",
    "- 과제를 수행하면서 파이썬이라는 언어가 받아들이기 쉬우면서도 어려운 부분이 존재한다는 것을 느낄 수 있었습니다. 단순히 강의를 듣거나 수업을 들으면서 문법을 익히거나 수행할 때는 받아들이기 쉬웠지만, 막상 문제를 풀면서 에러가 나는 정확한 이유를 생각해보자니 명확하지 않아 다시 한번 공부를 해가면서 풀게 되었습니다. 문제를 풀면서 파이썬의 문법에 대해서 더 명확하게 알게 되었습니다. 또 백준사이트 알고리즘 문제를 풀면서 새로 배운 언어로 문제를 푸는 재미와 파이썬 언어를 사용하는데 좀 더 익숙해지게 되었습니다. "
   ]
  }
 ],
 "metadata": {
  "kernelspec": {
   "display_name": "Python 3",
   "language": "python",
   "name": "python3"
  },
  "language_info": {
   "codemirror_mode": {
    "name": "ipython",
    "version": 3
   },
   "file_extension": ".py",
   "mimetype": "text/x-python",
   "name": "python",
   "nbconvert_exporter": "python",
   "pygments_lexer": "ipython3",
   "version": "3.6.5"
  }
 },
 "nbformat": 4,
 "nbformat_minor": 2
}
